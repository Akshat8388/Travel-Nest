{
 "cells": [
  {
   "cell_type": "code",
   "execution_count": 17,
   "id": "f6c78995-53a7-4229-9d71-50a1dc43ccf8",
   "metadata": {},
   "outputs": [],
   "source": [
    "import pandas as pd\n",
    "import requests\n",
    "import time"
   ]
  },
  {
   "cell_type": "code",
   "execution_count": 21,
   "id": "da3a10c4-9461-4fc2-9e05-c269b7201409",
   "metadata": {},
   "outputs": [],
   "source": [
    "df = pd.read_csv(\"Top Indian Places to Visit.csv\")"
   ]
  },
  {
   "cell_type": "code",
   "execution_count": 98,
   "id": "25aceadf-8b51-40fa-b10a-890b90a83c1a",
   "metadata": {},
   "outputs": [],
   "source": [
    "batch1 = df.iloc[0:51]"
   ]
  },
  {
   "cell_type": "code",
   "execution_count": 99,
   "id": "0eb4b402-493a-4707-b617-b309ea457aca",
   "metadata": {},
   "outputs": [],
   "source": [
    "batch2 = df.iloc[51:101]"
   ]
  },
  {
   "cell_type": "code",
   "execution_count": 100,
   "id": "75b76525-f127-410c-8855-89fda3882bc5",
   "metadata": {},
   "outputs": [],
   "source": [
    "batch3 = df.iloc[101:151]"
   ]
  },
  {
   "cell_type": "code",
   "execution_count": 101,
   "id": "aa5d98bd-4f86-4e79-a55c-bf58a17d6f76",
   "metadata": {},
   "outputs": [],
   "source": [
    "batch4 = df.iloc[151:201]"
   ]
  },
  {
   "cell_type": "code",
   "execution_count": 102,
   "id": "bff5fa7c-d8e1-4e93-a19f-98e062204608",
   "metadata": {},
   "outputs": [],
   "source": [
    "batch5 = df.iloc[201:251]"
   ]
  },
  {
   "cell_type": "code",
   "execution_count": 103,
   "id": "2acc4894-b551-4323-a83f-7ad00a3008f3",
   "metadata": {},
   "outputs": [],
   "source": [
    "batch6 = df.iloc[251:301]"
   ]
  },
  {
   "cell_type": "code",
   "execution_count": 104,
   "id": "d4fdb6e1-5050-4cc3-8d05-bfcc7651601e",
   "metadata": {},
   "outputs": [],
   "source": [
    "batch7 = df.iloc[301:325]"
   ]
  },
  {
   "cell_type": "code",
   "execution_count": 105,
   "id": "36ace455-5897-454b-9390-a738e9a0f936",
   "metadata": {},
   "outputs": [
    {
     "data": {
      "text/plain": [
       "325"
      ]
     },
     "execution_count": 105,
     "metadata": {},
     "output_type": "execute_result"
    }
   ],
   "source": [
    "len(batch1) + len(batch2) + len(batch3) + len(batch4) + len(batch5) + len(batch6) + len(batch7)"
   ]
  },
  {
   "cell_type": "markdown",
   "id": "34fe2cb0-435d-4453-bb4a-1e7b42f66066",
   "metadata": {},
   "source": [
    "## Getting images from unsplash Api"
   ]
  },
  {
   "cell_type": "code",
   "execution_count": 106,
   "id": "d18432c9-128b-4062-b7fa-3b8cc0a3e6c3",
   "metadata": {},
   "outputs": [],
   "source": [
    "access_key = 'YWKkgi1rx5CpNZZfVsK2Ptt1Dq0Bt-K8GdAdWYXWFl8'  # Replace with your actual access key\n",
    "\n",
    "def search_unsplash_images(place_names):\n",
    "    image_urls = []\n",
    "    for place_name in place_names:\n",
    "        try:\n",
    "            url = f'https://api.unsplash.com/search/photos?query={place_name}&client_id={access_key}'\n",
    "            response = requests.get(url)\n",
    "\n",
    "            if response.status_code == 403:\n",
    "                print(\"Rate limit exceeded. Waiting for 60 seconds...\")\n",
    "                time.sleep(60)  # Wait before retrying\n",
    "                return search_unsplash_images(place_names)  # Retry the entire batch\n",
    "\n",
    "            response.raise_for_status()  # Raise an error for other bad responses\n",
    "            \n",
    "            data = response.json()\n",
    "            if data['results']:\n",
    "                image_urls.append(data['results'][0]['urls']['small'])  # Get the URL of the first image\n",
    "            else:\n",
    "                print(f\"No results found for {place_name}.\")\n",
    "                image_urls.append(None)  # Append None if no results found\n",
    "        except requests.exceptions.RequestException as e:\n",
    "            print(f\"Error fetching image for {place_name}: {e}\")\n",
    "            image_urls.append(None)  # Append None for errors\n",
    "\n",
    "    return image_urls"
   ]
  },
  {
   "cell_type": "code",
   "execution_count": 108,
   "id": "4a3bca2f-17a0-480b-8109-aeeacf4950f7",
   "metadata": {},
   "outputs": [
    {
     "name": "stdout",
     "output_type": "stream",
     "text": [
      "Fetching images for Batch 1...\n",
      "Completed\n"
     ]
    },
    {
     "name": "stderr",
     "output_type": "stream",
     "text": [
      "C:\\Users\\aksha\\AppData\\Local\\Temp\\ipykernel_5560\\222591013.py:5: SettingWithCopyWarning: \n",
      "A value is trying to be set on a copy of a slice from a DataFrame.\n",
      "Try using .loc[row_indexer,col_indexer] = value instead\n",
      "\n",
      "See the caveats in the documentation: https://pandas.pydata.org/pandas-docs/stable/user_guide/indexing.html#returning-a-view-versus-a-copy\n",
      "  batch1.loc[batch1.index, 'Image URL'] = image_urls\n"
     ]
    }
   ],
   "source": [
    "place_names = batch1['Name'].tolist()\n",
    "print(\"Fetching images for Batch 1...\")\n",
    "\n",
    "image_urls = search_unsplash_images(place_names)\n",
    "batch1.loc[batch1.index, 'Image URL'] = image_urls\n",
    "print(\"Completed\")"
   ]
  },
  {
   "cell_type": "code",
   "execution_count": 110,
   "id": "9650233e-9a61-4a80-8ac6-5e7ac8525174",
   "metadata": {},
   "outputs": [
    {
     "name": "stdout",
     "output_type": "stream",
     "text": [
      "Fetching images for Batch 2...\n",
      "Completed\n"
     ]
    },
    {
     "name": "stderr",
     "output_type": "stream",
     "text": [
      "C:\\Users\\aksha\\AppData\\Local\\Temp\\ipykernel_5560\\2025055081.py:5: SettingWithCopyWarning: \n",
      "A value is trying to be set on a copy of a slice from a DataFrame.\n",
      "Try using .loc[row_indexer,col_indexer] = value instead\n",
      "\n",
      "See the caveats in the documentation: https://pandas.pydata.org/pandas-docs/stable/user_guide/indexing.html#returning-a-view-versus-a-copy\n",
      "  batch2.loc[batch2.index, 'Image URL'] = image_urls\n"
     ]
    }
   ],
   "source": [
    "place_names = batch2['Name'].tolist()\n",
    "print(\"Fetching images for Batch 2...\")\n",
    "\n",
    "image_urls = search_unsplash_images(place_names)\n",
    "batch2.loc[batch2.index, 'Image URL'] = image_urls\n",
    "print(\"Completed\")"
   ]
  },
  {
   "cell_type": "code",
   "execution_count": 118,
   "id": "be1e0e19-4296-4a4d-8aeb-4d6c1a5d6f05",
   "metadata": {},
   "outputs": [],
   "source": [
    "access_key_new = \"TcE0Dv4gwZEwdqpesurOFe7S6qqEHDhC3DnCKmiKlI8\"\n",
    "def search_unsplash_images_2(place_names):\n",
    "    image_urls = []\n",
    "    for place_name in place_names:\n",
    "        try:\n",
    "            url = f'https://api.unsplash.com/search/photos?query={place_name}&client_id={access_key_new}'\n",
    "            response = requests.get(url)\n",
    "\n",
    "            if response.status_code == 403:\n",
    "                print(\"Rate limit exceeded. Waiting for 60 seconds...\")\n",
    "                time.sleep(60)  # Wait before retrying\n",
    "                return search_unsplash_images_2(place_names)  # Retry the entire batch\n",
    "\n",
    "            response.raise_for_status()  # Raise an error for other bad responses\n",
    "            \n",
    "            data = response.json()\n",
    "            if data['results']:\n",
    "                image_urls.append(data['results'][0]['urls']['small'])  # Get the URL of the first image\n",
    "            else:\n",
    "                print(f\"No results found for {place_name}.\")\n",
    "                image_urls.append(None)  # Append None if no results found\n",
    "        except requests.exceptions.RequestException as e:\n",
    "            print(f\"Error fetching image for {place_name}: {e}\")\n",
    "            image_urls.append(None)  # Append None for errors\n",
    "\n",
    "    return image_urls"
   ]
  },
  {
   "cell_type": "code",
   "execution_count": 119,
   "id": "66bd774e-646c-494e-94a7-cba62ddbf9ae",
   "metadata": {},
   "outputs": [
    {
     "name": "stdout",
     "output_type": "stream",
     "text": [
      "Fetching images for Batch 3...\n",
      "No results found for Deekshabhoomi.\n",
      "Completed\n"
     ]
    },
    {
     "name": "stderr",
     "output_type": "stream",
     "text": [
      "C:\\Users\\aksha\\AppData\\Local\\Temp\\ipykernel_5560\\4111064480.py:5: SettingWithCopyWarning: \n",
      "A value is trying to be set on a copy of a slice from a DataFrame.\n",
      "Try using .loc[row_indexer,col_indexer] = value instead\n",
      "\n",
      "See the caveats in the documentation: https://pandas.pydata.org/pandas-docs/stable/user_guide/indexing.html#returning-a-view-versus-a-copy\n",
      "  batch3.loc[batch3.index, 'Image URL'] = image_urls\n"
     ]
    }
   ],
   "source": [
    "place_names = batch3['Name'].tolist()\n",
    "print(\"Fetching images for Batch 3...\")\n",
    "\n",
    "image_urls = search_unsplash_images_2(place_names)\n",
    "batch3.loc[batch3.index, 'Image URL'] = image_urls\n",
    "print(\"Completed\")"
   ]
  },
  {
   "cell_type": "code",
   "execution_count": 123,
   "id": "9010f364-c586-4972-a1f0-cdd8ba3dfb8f",
   "metadata": {},
   "outputs": [],
   "source": [
    "\n",
    "access_key_new_2 = \"Z0TSx_GeVH3H2ZTt4cKlPb7_lsTTuHzG8GkkML6iYvw\"\n",
    "def search_unsplash_images_3(place_names):\n",
    "    image_urls = []\n",
    "    for place_name in place_names:\n",
    "        try:\n",
    "            url = f'https://api.unsplash.com/search/photos?query={place_name}&client_id={access_key_new_2}'\n",
    "            response = requests.get(url)\n",
    "\n",
    "            if response.status_code == 403:\n",
    "                print(\"Rate limit exceeded. Waiting for 60 seconds...\")\n",
    "                time.sleep(60)  # Wait before retrying\n",
    "                return search_unsplash_images_3(place_names)  # Retry the entire batch\n",
    "\n",
    "            response.raise_for_status()  # Raise an error for other bad responses\n",
    "            \n",
    "            data = response.json()\n",
    "            if data['results']:\n",
    "                image_urls.append(data['results'][0]['urls']['small'])  # Get the URL of the first image\n",
    "            else:\n",
    "                print(f\"No results found for {place_name}.\")\n",
    "                image_urls.append(None)  # Append None if no results found\n",
    "        except requests.exceptions.RequestException as e:\n",
    "            print(f\"Error fetching image for {place_name}: {e}\")\n",
    "            image_urls.append(None)  # Append None for errors\n",
    "\n",
    "    return image_urls"
   ]
  },
  {
   "cell_type": "code",
   "execution_count": 124,
   "id": "0e2428f9-1d18-46f8-b34d-2d4d31dd491f",
   "metadata": {},
   "outputs": [
    {
     "name": "stdout",
     "output_type": "stream",
     "text": [
      "Fetching images for Batch 4...\n",
      "Completed\n"
     ]
    },
    {
     "name": "stderr",
     "output_type": "stream",
     "text": [
      "C:\\Users\\aksha\\AppData\\Local\\Temp\\ipykernel_5560\\2543383529.py:5: SettingWithCopyWarning: \n",
      "A value is trying to be set on a copy of a slice from a DataFrame.\n",
      "Try using .loc[row_indexer,col_indexer] = value instead\n",
      "\n",
      "See the caveats in the documentation: https://pandas.pydata.org/pandas-docs/stable/user_guide/indexing.html#returning-a-view-versus-a-copy\n",
      "  batch4.loc[batch4.index, 'Image URL'] = image_urls\n"
     ]
    }
   ],
   "source": [
    "place_names = batch4['Name'].tolist()\n",
    "print(\"Fetching images for Batch 4...\")\n",
    "\n",
    "image_urls = search_unsplash_images_3(place_names)\n",
    "batch4.loc[batch4.index, 'Image URL'] = image_urls\n",
    "print(\"Completed\")"
   ]
  },
  {
   "cell_type": "code",
   "execution_count": 125,
   "id": "2bcf4527-6f8e-4bf8-b71c-408ddb44113f",
   "metadata": {},
   "outputs": [],
   "source": [
    "\n",
    "access_key_new_3 = \"G5J-7dj5JjtYkxuHwDpB2lxhdhVHrd2QJm0JVJfmgnI\"\n",
    "def search_unsplash_images_4(place_names):\n",
    "    image_urls = []\n",
    "    for place_name in place_names:\n",
    "        try:\n",
    "            url = f'https://api.unsplash.com/search/photos?query={place_name}&client_id={access_key_new_3}'\n",
    "            response = requests.get(url)\n",
    "\n",
    "            if response.status_code == 403:\n",
    "                print(\"Rate limit exceeded. Waiting for 60 seconds...\")\n",
    "                time.sleep(60)  # Wait before retrying\n",
    "                return search_unsplash_images_4(place_names)  # Retry the entire batch\n",
    "\n",
    "            response.raise_for_status()  # Raise an error for other bad responses\n",
    "            \n",
    "            data = response.json()\n",
    "            if data['results']:\n",
    "                image_urls.append(data['results'][0]['urls']['small'])  # Get the URL of the first image\n",
    "            else:\n",
    "                print(f\"No results found for {place_name}.\")\n",
    "                image_urls.append(None)  # Append None if no results found\n",
    "        except requests.exceptions.RequestException as e:\n",
    "            print(f\"Error fetching image for {place_name}: {e}\")\n",
    "            image_urls.append(None)  # Append None for errors\n",
    "\n",
    "    return image_urls"
   ]
  },
  {
   "cell_type": "code",
   "execution_count": 127,
   "id": "b6bfc956-61bb-4b08-b52d-8f7121fe5fdc",
   "metadata": {},
   "outputs": [
    {
     "name": "stdout",
     "output_type": "stream",
     "text": [
      "Fetching images for Batch 5...\n",
      "Completed\n"
     ]
    },
    {
     "name": "stderr",
     "output_type": "stream",
     "text": [
      "C:\\Users\\aksha\\AppData\\Local\\Temp\\ipykernel_5560\\1751989419.py:5: SettingWithCopyWarning: \n",
      "A value is trying to be set on a copy of a slice from a DataFrame.\n",
      "Try using .loc[row_indexer,col_indexer] = value instead\n",
      "\n",
      "See the caveats in the documentation: https://pandas.pydata.org/pandas-docs/stable/user_guide/indexing.html#returning-a-view-versus-a-copy\n",
      "  batch5.loc[batch5.index, 'Image URL'] = image_urls\n"
     ]
    }
   ],
   "source": [
    "place_names = batch5['Name'].tolist()\n",
    "print(\"Fetching images for Batch 5...\")\n",
    "\n",
    "image_urls = search_unsplash_images_4(place_names)\n",
    "batch5.loc[batch5.index, 'Image URL'] = image_urls\n",
    "print(\"Completed\")"
   ]
  },
  {
   "cell_type": "code",
   "execution_count": 128,
   "id": "bb0f8a58-c979-41e0-a525-2b9c64f5ca06",
   "metadata": {},
   "outputs": [],
   "source": [
    "access_key_new_4 = \"Sfsday6ebp961MuDHG8buPOw91eiVn4q09w-nW0VPGc\"\n",
    "def search_unsplash_images_5(place_names):\n",
    "    image_urls = []\n",
    "    for place_name in place_names:\n",
    "        try:\n",
    "            url = f'https://api.unsplash.com/search/photos?query={place_name}&client_id={access_key_new_4}'\n",
    "            response = requests.get(url)\n",
    "\n",
    "            if response.status_code == 403:\n",
    "                print(\"Rate limit exceeded. Waiting for 60 seconds...\")\n",
    "                time.sleep(60)  # Wait before retrying\n",
    "                return search_unsplash_images_5(place_names)  # Retry the entire batch\n",
    "\n",
    "            response.raise_for_status()  # Raise an error for other bad responses\n",
    "            \n",
    "            data = response.json()\n",
    "            if data['results']:\n",
    "                image_urls.append(data['results'][0]['urls']['small'])  # Get the URL of the first image\n",
    "            else:\n",
    "                print(f\"No results found for {place_name}.\")\n",
    "                image_urls.append(None)  # Append None if no results found\n",
    "        except requests.exceptions.RequestException as e:\n",
    "            print(f\"Error fetching image for {place_name}: {e}\")\n",
    "            image_urls.append(None)  # Append None for errors\n",
    "\n",
    "    return image_urls"
   ]
  },
  {
   "cell_type": "code",
   "execution_count": 129,
   "id": "4c1effb1-a1c2-487f-93a2-440de7b986c1",
   "metadata": {},
   "outputs": [
    {
     "name": "stdout",
     "output_type": "stream",
     "text": [
      "Fetching images for Batch 6...\n",
      "No results found for Prasanthi Nilayam.\n",
      "Completed\n"
     ]
    },
    {
     "name": "stderr",
     "output_type": "stream",
     "text": [
      "C:\\Users\\aksha\\AppData\\Local\\Temp\\ipykernel_5560\\1360662538.py:5: SettingWithCopyWarning: \n",
      "A value is trying to be set on a copy of a slice from a DataFrame.\n",
      "Try using .loc[row_indexer,col_indexer] = value instead\n",
      "\n",
      "See the caveats in the documentation: https://pandas.pydata.org/pandas-docs/stable/user_guide/indexing.html#returning-a-view-versus-a-copy\n",
      "  batch6.loc[batch6.index, 'Image URL'] = image_urls\n"
     ]
    }
   ],
   "source": [
    "place_names = batch6['Name'].tolist()\n",
    "print(\"Fetching images for Batch 6...\")\n",
    "\n",
    "image_urls = search_unsplash_images_5(place_names)\n",
    "batch6.loc[batch6.index, 'Image URL'] = image_urls\n",
    "print(\"Completed\")"
   ]
  },
  {
   "cell_type": "code",
   "execution_count": 130,
   "id": "5f08a502-074d-40e6-a0bb-11590fa3e74d",
   "metadata": {},
   "outputs": [],
   "source": [
    "access_key_new_5 = \"u3WFlxpKelSBKXQdq1g9x6q1BHDHMrkJSXVKv4SwkmQ\"\n",
    "def search_unsplash_images_6(place_names):\n",
    "    image_urls = []\n",
    "    for place_name in place_names:\n",
    "        try:\n",
    "            url = f'https://api.unsplash.com/search/photos?query={place_name}&client_id={access_key_new_5}'\n",
    "            response = requests.get(url)\n",
    "\n",
    "            if response.status_code == 403:\n",
    "                print(\"Rate limit exceeded. Waiting for 60 seconds...\")\n",
    "                time.sleep(60)  # Wait before retrying\n",
    "                return search_unsplash_images_6(place_names)  # Retry the entire batch\n",
    "\n",
    "            response.raise_for_status()  # Raise an error for other bad responses\n",
    "            \n",
    "            data = response.json()\n",
    "            if data['results']:\n",
    "                image_urls.append(data['results'][0]['urls']['small'])  # Get the URL of the first image\n",
    "            else:\n",
    "                print(f\"No results found for {place_name}.\")\n",
    "                image_urls.append(None)  # Append None if no results found\n",
    "        except requests.exceptions.RequestException as e:\n",
    "            print(f\"Error fetching image for {place_name}: {e}\")\n",
    "            image_urls.append(None)  # Append None for errors\n",
    "\n",
    "    return image_urls"
   ]
  },
  {
   "cell_type": "code",
   "execution_count": 131,
   "id": "32a6cb77-c0c7-4209-9019-7e985c91400e",
   "metadata": {},
   "outputs": [
    {
     "name": "stdout",
     "output_type": "stream",
     "text": [
      "Fetching images for Batch 7...\n",
      "Completed\n"
     ]
    },
    {
     "name": "stderr",
     "output_type": "stream",
     "text": [
      "C:\\Users\\aksha\\AppData\\Local\\Temp\\ipykernel_5560\\21050841.py:5: SettingWithCopyWarning: \n",
      "A value is trying to be set on a copy of a slice from a DataFrame.\n",
      "Try using .loc[row_indexer,col_indexer] = value instead\n",
      "\n",
      "See the caveats in the documentation: https://pandas.pydata.org/pandas-docs/stable/user_guide/indexing.html#returning-a-view-versus-a-copy\n",
      "  batch7.loc[batch7.index, 'Image URL'] = image_urls\n"
     ]
    }
   ],
   "source": [
    "place_names = batch7['Name'].tolist()\n",
    "print(\"Fetching images for Batch 7...\")\n",
    "\n",
    "image_urls = search_unsplash_images_6(place_names)\n",
    "batch7.loc[batch7.index, 'Image URL'] = image_urls\n",
    "print(\"Completed\")"
   ]
  },
  {
   "cell_type": "markdown",
   "id": "89cfb19e-75bb-47b2-aa8d-1af5c8563005",
   "metadata": {},
   "source": [
    "## Combining batches into single data set"
   ]
  },
  {
   "cell_type": "code",
   "execution_count": 146,
   "id": "86574220-9a6b-4faf-9350-cea38210594f",
   "metadata": {},
   "outputs": [],
   "source": [
    "combined_batches = pd.concat([batch1, batch2,batch3,batch4,batch5,batch6,batch7], ignore_index=True)"
   ]
  },
  {
   "cell_type": "code",
   "execution_count": 148,
   "id": "bfe134a6-3414-4817-a72b-fd123f7e08c4",
   "metadata": {},
   "outputs": [],
   "source": [
    "combined_batches.to_csv(\"Travel_destination_data_with_img.csv\",index=False)"
   ]
  },
  {
   "cell_type": "code",
   "execution_count": null,
   "id": "35284517-216b-499f-a224-3bd031191f38",
   "metadata": {},
   "outputs": [],
   "source": []
  }
 ],
 "metadata": {
  "kernelspec": {
   "display_name": "Python 3 (ipykernel)",
   "language": "python",
   "name": "python3"
  },
  "language_info": {
   "codemirror_mode": {
    "name": "ipython",
    "version": 3
   },
   "file_extension": ".py",
   "mimetype": "text/x-python",
   "name": "python",
   "nbconvert_exporter": "python",
   "pygments_lexer": "ipython3",
   "version": "3.12.4"
  }
 },
 "nbformat": 4,
 "nbformat_minor": 5
}
